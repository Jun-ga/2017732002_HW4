{
  "nbformat": 4,
  "nbformat_minor": 0,
  "metadata": {
    "colab": {
      "provenance": [],
      "include_colab_link": true
    },
    "kernelspec": {
      "name": "python3",
      "display_name": "Python 3"
    },
    "language_info": {
      "name": "python"
    },
    "accelerator": "TPU"
  },
  "cells": [
    {
      "cell_type": "markdown",
      "metadata": {
        "id": "view-in-github",
        "colab_type": "text"
      },
      "source": [
        "<a href=\"https://colab.research.google.com/github/Jun-ga/2017732002_HW4/blob/main/%EC%9D%B8%EA%B3%B5%EC%A7%80%EB%8A%A5%EC%9D%91%EC%9A%A9/Assignment_8.ipynb\" target=\"_parent\"><img src=\"https://colab.research.google.com/assets/colab-badge.svg\" alt=\"Open In Colab\"/></a>"
      ]
    },
    {
      "cell_type": "markdown",
      "metadata": {
        "id": "YVIa1nPRe0uo"
      },
      "source": [
        "#__실습 (Assignment 8)__\n",
        "* Data 파일을 이용한 Logistic Regression\n",
        "  - data_logistic_regression.csv을 이용해 학습한다\n",
        "\n",
        "    * 8개의 input, 1개의 output\n",
        "\n",
        "$$ [x_1, ... x_8, y] $$\n",
        "\n",
        "  - Accuracy 75% 이상을 달성"
      ]
    },
    {
      "cell_type": "markdown",
      "metadata": {
        "id": "iNwbpl3afllW"
      },
      "source": [
        "#__code__"
      ]
    },
    {
      "cell_type": "code",
      "metadata": {
        "colab": {
          "base_uri": "https://localhost:8080/"
        },
        "id": "xyATDc_MTWQB",
        "outputId": "b1bb01be-1f01-4611-f562-93cc7d0d7dc5"
      },
      "source": [
        "import numpy as np\n",
        "import torch\n",
        "import torch.nn as nn\n",
        "import torch.nn.functional as F\n",
        "import torch.optim as optim\n",
        "\n",
        "from google.colab import drive\n",
        "drive.mount('/content/drive')\n",
        "\n",
        "# Seed 고정\n",
        "torch.manual_seed(1)"
      ],
      "execution_count": null,
      "outputs": [
        {
          "output_type": "stream",
          "name": "stdout",
          "text": [
            "Drive already mounted at /content/drive; to attempt to forcibly remount, call drive.mount(\"/content/drive\", force_remount=True).\n"
          ]
        },
        {
          "output_type": "execute_result",
          "data": {
            "text/plain": [
              "<torch._C.Generator at 0x7fc9b4a95b70>"
            ]
          },
          "metadata": {},
          "execution_count": 13
        }
      ]
    },
    {
      "cell_type": "code",
      "metadata": {
        "id": "-hAbkZn9Yb5U"
      },
      "source": [
        "dataset = np.loadtxt('/content/drive/MyDrive/Colab Notebooks/인공지능응용/data/data_logistic_regression.csv',delimiter=',', dtype=np.float32)\n",
        "# 순서를 random으로 섞기\n",
        "np.random.shuffle(dataset)"
      ],
      "execution_count": null,
      "outputs": []
    },
    {
      "cell_type": "code",
      "metadata": {
        "id": "VKz-2kW_IA72"
      },
      "source": [
        "delemiter dtype = np.float32"
      ],
      "execution_count": null,
      "outputs": []
    },
    {
      "cell_type": "code",
      "metadata": {
        "id": "cHSJG495Yu8P",
        "colab": {
          "base_uri": "https://localhost:8080/"
        },
        "outputId": "e4e59597-4ec5-43fb-d290-832bbb103dd0"
      },
      "source": [
        "x_train = torch.FloatTensor(dataset[:,:-1])\n",
        "y_train = torch.FloatTensor(dataset[:,[-1]])\n",
        "\n",
        "print(x_train.shape)\n",
        "print(y_train.shape)"
      ],
      "execution_count": null,
      "outputs": [
        {
          "output_type": "stream",
          "name": "stdout",
          "text": [
            "torch.Size([759, 8])\n",
            "torch.Size([759, 1])\n"
          ]
        }
      ]
    },
    {
      "cell_type": "code",
      "metadata": {
        "id": "PXxeqcUjTtKR"
      },
      "source": [
        "class Logistic(nn.Module):\n",
        "    def __init__(self, num_inputs, num_outputs):\n",
        "        super().__init__()\n",
        "        self.linear = nn.Linear(num_inputs, num_outputs)\n",
        "        self.sigmoid = nn.Sigmoid()\n",
        "\n",
        "    def forward(self, x):\n",
        "        return self.sigmoid(self.linear(x))"
      ],
      "execution_count": null,
      "outputs": []
    },
    {
      "cell_type": "code",
      "metadata": {
        "id": "arETUa5IYVuR"
      },
      "source": [
        "# Model 초기화 (입력 dim, 출력 dim)\n",
        "model = Logistic(8, 1)"
      ],
      "execution_count": null,
      "outputs": []
    },
    {
      "cell_type": "code",
      "metadata": {
        "colab": {
          "base_uri": "https://localhost:8080/"
        },
        "id": "hn4zfkULYYUx",
        "outputId": "cad821d3-403c-4c20-e4fa-0310d76893a1"
      },
      "source": [
        "# Optimizer 설정 (learning rate = 1로 설정)\n",
        "optimizer = optim.SGD(model.parameters(), lr=0.05)\n",
        "\n",
        "# 반복\n",
        "for epoch in range(1000):\n",
        "\n",
        "  # Cost 계산 / mse_loss\n",
        "  prediction = model(x_train)\n",
        "  cost = F.binary_cross_entropy(prediction, y_train)\n",
        "\n",
        "  # cost를 이용해 model update\n",
        "  optimizer.zero_grad() #optim을 계속 초기화\n",
        "  cost.backward() #gradient descent 계산\n",
        "  optimizer.step() #업데이트\n",
        "\n",
        "\n",
        "  # 100번 마다 중간결과 출력\n",
        "  if epoch % 100 == 0:\n",
        "    predic = prediction >= torch.FloatTensor([0.5])\n",
        "    correct_prediction = predic.float() == y_train\n",
        "    accuracy = correct_prediction.sum().item() / len(correct_prediction)\n",
        "    print('Epoch {:4d}/{} Cost: {:.6f} Accuracy {:2.2f}%'.format(\n",
        "            epoch, 1000, cost.item(), accuracy * 100,\n",
        "    ))"
      ],
      "execution_count": null,
      "outputs": [
        {
          "output_type": "stream",
          "name": "stdout",
          "text": [
            "Epoch    0/1000 Cost: 0.704829 Accuracy 45.72%\n",
            "Epoch  100/1000 Cost: 0.598557 Accuracy 65.74%\n",
            "Epoch  200/1000 Cost: 0.573085 Accuracy 67.46%\n",
            "Epoch  300/1000 Cost: 0.554420 Accuracy 70.62%\n",
            "Epoch  400/1000 Cost: 0.540248 Accuracy 73.52%\n",
            "Epoch  500/1000 Cost: 0.529270 Accuracy 74.97%\n",
            "Epoch  600/1000 Cost: 0.520610 Accuracy 75.76%\n",
            "Epoch  700/1000 Cost: 0.513665 Accuracy 75.76%\n",
            "Epoch  800/1000 Cost: 0.508016 Accuracy 76.15%\n",
            "Epoch  900/1000 Cost: 0.503363 Accuracy 76.68%\n"
          ]
        }
      ]
    },
    {
      "cell_type": "code",
      "metadata": {
        "id": "8h8ry4fVIuAk"
      },
      "source": [
        "if epoch % 100 = 0:\n",
        "  pre = prediction>=torch.FloatTensor([0.5]\n",
        "  correct_pre = pre.flaot()==y\n",
        "  accuracy ==\n",
        "\n",
        "\n",
        "                                      )"
      ],
      "execution_count": null,
      "outputs": []
    }
  ]
}