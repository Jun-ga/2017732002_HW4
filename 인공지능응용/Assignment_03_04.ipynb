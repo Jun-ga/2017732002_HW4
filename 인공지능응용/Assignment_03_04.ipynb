{
  "nbformat": 4,
  "nbformat_minor": 0,
  "metadata": {
    "colab": {
      "provenance": [],
      "authorship_tag": "ABX9TyMK+5y1ZLLGpR75XrZghnaC",
      "include_colab_link": true
    },
    "kernelspec": {
      "name": "python3",
      "display_name": "Python 3"
    },
    "language_info": {
      "name": "python"
    }
  },
  "cells": [
    {
      "cell_type": "markdown",
      "metadata": {
        "id": "view-in-github",
        "colab_type": "text"
      },
      "source": [
        "<a href=\"https://colab.research.google.com/github/Jun-ga/2017732002_HW4/blob/main/%EC%9D%B8%EA%B3%B5%EC%A7%80%EB%8A%A5%EC%9D%91%EC%9A%A9/Assignment_03_04.ipynb\" target=\"_parent\"><img src=\"https://colab.research.google.com/assets/colab-badge.svg\" alt=\"Open In Colab\"/></a>"
      ]
    },
    {
      "cell_type": "markdown",
      "metadata": {
        "id": "LupkGhG3HC5e"
      },
      "source": [
        "#__실습 (Assignment 3)__\n",
        " - 행렬 방정식 풀기\n",
        "  + 다음 행렬 방정식을 'Pseudo inverse matrix'를 이용해 풀어보자\n",
        "  + $A^{T}A$의 역행렬이 존재한다고 가정\n",
        "\n",
        "\n",
        "$$Ax=B$$\n",
        "\n",
        "$$A = \\begin{bmatrix} 0 & 1 \\\\ 1 & 1 \\\\ 2 & 1 \\\\ 3 & 1 \\end{bmatrix}$$\n",
        "\n",
        "$$B = \\begin{bmatrix}-1 \\\\ 0.2 \\\\ 0.9 \\\\ 2.1 \\end{bmatrix}$$\n",
        "\n",
        "\n"
      ]
    },
    {
      "cell_type": "markdown",
      "metadata": {
        "id": "FiMCINmWRxqa"
      },
      "source": [
        "#__code__\n",
        "\n",
        "\n",
        "+ Pseudo inverse matrix\n",
        "\n",
        "  $A^+ = (A^T · A)^{-1} · A^T$"
      ]
    },
    {
      "cell_type": "code",
      "metadata": {
        "colab": {
          "base_uri": "https://localhost:8080/"
        },
        "id": "vjBM8QoZJSM4",
        "outputId": "bdf98e99-6ed8-42dc-f4cc-82b240ce0683"
      },
      "source": [
        "import numpy as np\n",
        "import numpy.linalg as lin\n",
        "\n",
        "A = np.array([[0,1],[1,1],[2,1],[3,1]])\n",
        "B = np.array([[-1.0],[0.2],[0.9],[2.1]])\n",
        "\n",
        "#전치행렬과 행렬 곱\n",
        "exlnv=np.dot(A.T,A)\n",
        "\n",
        "#역행렬\n",
        "AT = lin.inv(exlnv)\n",
        "\n",
        "#Pseudo inverse\n",
        "AP=np.dot(A.T,B)\n",
        "\n",
        "x=np.dot(AT,AP)\n",
        "\n",
        "print(x)\n",
        "#print(*x)"
      ],
      "execution_count": null,
      "outputs": [
        {
          "output_type": "stream",
          "name": "stdout",
          "text": [
            "[[ 1.  ]\n",
            " [-0.95]]\n"
          ]
        }
      ]
    },
    {
      "cell_type": "markdown",
      "metadata": {
        "id": "jBVZzD36JS9v"
      },
      "source": [
        "#__실습 (Assignment 4)__\n",
        " - 2x2 그래프 그리기\n",
        "  + $y=x$\n",
        "  + $y=x^2$\n",
        "  + $y=sin(x)$\n",
        "  + $y=cos(x)$"
      ]
    },
    {
      "cell_type": "code",
      "metadata": {
        "id": "sYh2XQhU_Mrm"
      },
      "source": [
        "import numpy as np\n",
        "import numpy.linalg as lin\n",
        "import matplotlib.pyplot as plt\n",
        "\n",
        "a = np.arange(0,3*np.pi,0.1)\n",
        "\n",
        "left\n",
        "right\n",
        "top\n",
        "bottem\n",
        "wspace\n",
        "hapace\n",
        "plt.subplots_adjust\n",
        "\n",
        "\n",
        "\n",
        "\n",
        "np.arange(0,3*np.pi,0.)\n"
      ],
      "execution_count": null,
      "outputs": []
    },
    {
      "cell_type": "code",
      "metadata": {
        "colab": {
          "base_uri": "https://localhost:8080/",
          "height": 370
        },
        "id": "SYTDg5mnTtvm",
        "outputId": "59dca273-8929-4768-bea7-770347ce69cc"
      },
      "source": [
        "import numpy as np\n",
        "import matplotlib.pyplot as plt\n",
        "\n",
        "x = np.arange(0, 3 * np.pi,0.1)\n",
        "\n",
        "y_x = x\n",
        "y_x2 = (x)**2\n",
        "y_sin = np.sin(x)\n",
        "y_cos = np.cos(x)\n",
        "\n",
        "left=0.0\n",
        "bottom=0.0\n",
        "right=1.0\n",
        "top=1.0\n",
        "wspace=1.0\n",
        "hspace=1.0\n",
        "plt.subplots_adjust(left, bottom, right, top, wspace, hspace)\n",
        "\n",
        "#y=x\n",
        "plt.subplot(2,2,1)\n",
        "plt.plot(x,y_x)\n",
        "plt.title('$y=x$')\n",
        "plt.xlabel('x axis')\n",
        "plt.ylabel('y axis')\n",
        "\n",
        "# y=x^2\n",
        "plt.subplot(2,2,2)\n",
        "plt.plot(x,y_x2)\n",
        "plt.title('$y=x^2$')\n",
        "plt.xlabel('x axis')\n",
        "plt.ylabel('y axis')\n",
        "\n",
        "# y=sin(x)\n",
        "plt.subplot(2,2,3)\n",
        "plt.plot(x,y_sin)\n",
        "plt.title('$y=sin(x)$')\n",
        "plt.xlabel('x axis')\n",
        "plt.ylabel('y axis')\n",
        "\n",
        "# y=cos(x)\n",
        "plt.subplot(2,2,4)\n",
        "plt.plot(x,y_cos)\n",
        "plt.title('$y=cos(x)$')\n",
        "plt.xlabel('x axis')\n",
        "plt.ylabel('y axis')\n",
        "\n",
        "plt.show()\n",
        "\n"
      ],
      "execution_count": null,
      "outputs": [
        {
          "output_type": "display_data",
          "data": {
            "image/png": "[encoded data removed]",
            "text/plain": [
              "<Figure size 432x288 with 4 Axes>"
            ]
          },
          "metadata": {
            "needs_background": "light"
          }
        }
      ]
    }
  ]
}