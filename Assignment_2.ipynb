{
  "nbformat": 4,
  "nbformat_minor": 0,
  "metadata": {
    "colab": {
      "provenance": [],
      "mount_file_id": "1MpKyQYPi6YgXk1MSfJF6RKzwxbvpBFnw",
      "authorship_tag": "ABX9TyNt/R5n0TqbsHD6ymipJsHR",
      "include_colab_link": true
    },
    "kernelspec": {
      "name": "python3",
      "display_name": "Python 3"
    },
    "language_info": {
      "name": "python"
    }
  },
  "cells": [
    {
      "cell_type": "markdown",
      "metadata": {
        "id": "view-in-github",
        "colab_type": "text"
      },
      "source": [
        "<a href=\"https://colab.research.google.com/github/Jun-ga/2017732002_HW4/blob/main/Assignment_2.ipynb\" target=\"_parent\"><img src=\"https://colab.research.google.com/assets/colab-badge.svg\" alt=\"Open In Colab\"/></a>"
      ]
    },
    {
      "cell_type": "markdown",
      "metadata": {
        "id": "f2aVee4RK64s"
      },
      "source": [
        "# **Assignment 2 - Python 기초 복습하기 2** _2017732040 최정아_"
      ]
    },
    {
      "cell_type": "markdown",
      "metadata": {
        "id": "EATpYmhLLIxS"
      },
      "source": [
        "## **Problem 1**"
      ]
    },
    {
      "cell_type": "code",
      "metadata": {
        "colab": {
          "base_uri": "https://localhost:8080/"
        },
        "id": "OCoA_rJaOWCQ",
        "outputId": "943d1202-d850-4db0-d9f1-aafb62194e23"
      },
      "source": [
        "# helloworld\n",
        "print('hello world')"
      ],
      "execution_count": null,
      "outputs": [
        {
          "output_type": "stream",
          "name": "stdout",
          "text": [
            "hello world\n"
          ]
        }
      ]
    },
    {
      "cell_type": "code",
      "metadata": {
        "colab": {
          "base_uri": "https://localhost:8080/"
        },
        "id": "hiNThS9cOcE9",
        "outputId": "51d0a51a-9f2a-4382-c8e9-40dd5e99f70c"
      },
      "source": [
        "'''\n",
        "Function name: helloworld()\n",
        "This function prints 'hello world'\n",
        "'''\n",
        "def helloworld():\n",
        "    print('hello world')\n",
        "\n",
        "helloworld()"
      ],
      "execution_count": null,
      "outputs": [
        {
          "output_type": "stream",
          "name": "stdout",
          "text": [
            "hello world\n"
          ]
        }
      ]
    },
    {
      "cell_type": "code",
      "metadata": {
        "colab": {
          "base_uri": "https://localhost:8080/"
        },
        "id": "pAl6lvydOn7q",
        "outputId": "c4ad1f7b-0caa-4516-dd1f-12b2efae49c6"
      },
      "source": [
        "print('start')\n",
        "for i in range(10):\n",
        "    if i>5:\n",
        "        print('i = %d > 5' % i)\n",
        "        # if의 범위는 여기까지다.\n",
        "    elif i<5:\n",
        "        print('i = %d < 5' % i)\n",
        "    else:\n",
        "        print('i = %d = 5' % i)\n",
        "    # for의 범위는 여기까지다.\n",
        "print('end')"
      ],
      "execution_count": null,
      "outputs": [
        {
          "output_type": "stream",
          "name": "stdout",
          "text": [
            "start\n",
            "i = 0 < 5\n",
            "i = 1 < 5\n",
            "i = 2 < 5\n",
            "i = 3 < 5\n",
            "i = 4 < 5\n",
            "i = 5 = 5\n",
            "i = 6 > 5\n",
            "i = 7 > 5\n",
            "i = 8 > 5\n",
            "i = 9 > 5\n",
            "end\n"
          ]
        }
      ]
    },
    {
      "cell_type": "code",
      "metadata": {
        "colab": {
          "base_uri": "https://localhost:8080/"
        },
        "id": "2Qlr4qsrOrDW",
        "outputId": "14f574ab-6657-4c58-c5f2-977aefc59de6"
      },
      "source": [
        "def function1():\n",
        "    print('  function start')\n",
        "    print('  function end')\n",
        "# 여기가지 함수의 영역이다.\n",
        "\n",
        "print('script start')\n",
        "function1()\n",
        "print('script end')"
      ],
      "execution_count": null,
      "outputs": [
        {
          "output_type": "stream",
          "name": "stdout",
          "text": [
            "script start\n",
            "  function start\n",
            "  function end\n",
            "script end\n"
          ]
        }
      ]
    },
    {
      "cell_type": "code",
      "metadata": {
        "colab": {
          "base_uri": "https://localhost:8080/"
        },
        "id": "N1uHLW02Osdu",
        "outputId": "ad5a0eeb-a74f-4b1c-c65a-13abe56592c7"
      },
      "source": [
        "a = input()\n",
        "print(a)"
      ],
      "execution_count": null,
      "outputs": [
        {
          "output_type": "stream",
          "name": "stdout",
          "text": [
            "20\n",
            "20\n"
          ]
        }
      ]
    },
    {
      "cell_type": "code",
      "metadata": {
        "colab": {
          "base_uri": "https://localhost:8080/"
        },
        "id": "V9hhGQjCOuM0",
        "outputId": "5921e516-fdda-48b1-b532-d53cfcf79270"
      },
      "source": [
        "i = 4\n",
        "j = 4.5\n",
        "k = 'abc'\n",
        "print('i=%d j=%.1f k=%s' % (i,j,k))"
      ],
      "execution_count": null,
      "outputs": [
        {
          "output_type": "stream",
          "name": "stdout",
          "text": [
            "i=4 j=4.5 k=abc\n"
          ]
        }
      ]
    },
    {
      "cell_type": "markdown",
      "metadata": {
        "id": "OFox7KN1LMKi"
      },
      "source": [
        "## **Problem 2**"
      ]
    }
  ]
}